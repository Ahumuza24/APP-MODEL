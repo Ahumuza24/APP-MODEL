{
  "nbformat": 4,
  "nbformat_minor": 0,
  "metadata": {
    "colab": {
      "provenance": [],
      "gpuType": "T4",
      "include_colab_link": true
    },
    "kernelspec": {
      "name": "python3",
      "display_name": "Python 3"
    },
    "language_info": {
      "name": "python"
    },
    "accelerator": "GPU"
  },
  "cells": [
    {
      "cell_type": "markdown",
      "metadata": {
        "id": "view-in-github",
        "colab_type": "text"
      },
      "source": [
        "<a href=\"https://colab.research.google.com/github/Ahumuza24/APP-MODEL/blob/main/final_APP_MODEL.ipynb\" target=\"_parent\"><img src=\"https://colab.research.google.com/assets/colab-badge.svg\" alt=\"Open In Colab\"/></a>"
      ]
    },
    {
      "cell_type": "code",
      "execution_count": null,
      "metadata": {
        "id": "HMMvKYAofiEM"
      },
      "outputs": [],
      "source": []
    },
    {
      "cell_type": "code",
      "source": [
        "import pandas as pd\n",
        "import numpy as np\n",
        "import torch\n",
        "import torch.nn as nn\n",
        "import torch.optim as optim\n",
        "from sklearn.model_selection import train_test_split\n",
        "from torch.utils.data import DataLoader, TensorDataset\n",
        "import matplotlib.pyplot as plt\n"
      ],
      "metadata": {
        "id": "ozg_4OlhrIKA"
      },
      "execution_count": null,
      "outputs": []
    },
    {
      "cell_type": "code",
      "source": [],
      "metadata": {
        "id": "yqV4l6mrnV2X"
      },
      "execution_count": null,
      "outputs": []
    },
    {
      "cell_type": "code",
      "source": [
        "\n",
        " from google.colab import drive\n",
        "drive.mount('/content/drive')\n"
      ],
      "metadata": {
        "id": "_Zs1HhRYr04o",
        "colab": {
          "base_uri": "https://localhost:8080/"
        },
        "outputId": "1bab8e40-9da3-4791-f131-5945c2bedfe6"
      },
      "execution_count": 18,
      "outputs": [
        {
          "output_type": "stream",
          "name": "stdout",
          "text": [
            "Mounted at /content/drive\n"
          ]
        }
      ]
    },
    {
      "cell_type": "code",
      "source": [
        "data = pd.read_csv(\"/content/drive/MyDrive/Iraqi Student Performance Prediction.csv\")"
      ],
      "metadata": {
        "id": "rkSKjcXWsqIb"
      },
      "execution_count": 20,
      "outputs": []
    },
    {
      "cell_type": "code",
      "source": [
        "print(data.head())"
      ],
      "metadata": {
        "colab": {
          "base_uri": "https://localhost:8080/"
        },
        "id": "KQyCFY7gtkdM",
        "outputId": "7c11f129-85fc-4037-bc38-c374ba2c7574"
      },
      "execution_count": null,
      "outputs": [
        {
          "output_type": "stream",
          "name": "stdout",
          "text": [
            "   Student_ID   Sex Social Status  Age Governorate Living Mother education  \\\n",
            "0           1  Male        single    2     baghdad   city        secondary   \n",
            "1           2  Male        single    3     baghdad   city           medium   \n",
            "2           3  Male        single    2     baghdad   city       Illiterate   \n",
            "3           4  Male       coupled    3     baghdad   city               ba   \n",
            "4           5  Male        single    2     baghdad   city        secondary   \n",
            "\n",
            "  Father education Family member Education Father Alive  ... economy/bio  \\\n",
            "0        secondary                     yes          yes  ...          70   \n",
            "1           higher                     yes          yes  ...          87   \n",
            "2        secondary                      no          yes  ...          58   \n",
            "3               ba                     yes          yes  ...          92   \n",
            "4        secondary                     yes          yes  ...          60   \n",
            "\n",
            "   Avg1 Islamea.1 arabic.1 english.1 math.1 physics.1 chemistry.1  \\\n",
            "0    55        69       50        60     41        59          50   \n",
            "1    70        65       87        68     85        64          61   \n",
            "2    54        44       50        46     45        55          30   \n",
            "3    73        60       55        60     55        70          73   \n",
            "4    34        40       32        28     25        35          25   \n",
            "\n",
            "  economy/bio.1 Avg1.1  \n",
            "0            69     57  \n",
            "1            69     71  \n",
            "2            43     45  \n",
            "3            80     65  \n",
            "4            40     32  \n",
            "\n",
            "[5 rows x 56 columns]\n"
          ]
        }
      ]
    },
    {
      "cell_type": "code",
      "source": [
        "data = pd.get_dummies(data, columns=['Sex', 'Social Status', 'Governorate', 'Living', 'Mother education', 'Father education', 'Family member Education', 'Father Alive', 'Mother Alive', 'Parent Apart', 'The Guardian', 'Family Relationship', 'Father Job', 'Mother Job', 'Education Fee', 'Secondary Job', 'Home Ownership', 'Study Room', 'Family Economic Level', 'You  chronic disease', 'Family Chronic Disease', 'Specialization', 'Study willing', 'Reason of study', 'Attendance', 'Failure Year', 'Higher Education Willing', 'References Usage', 'Transport', 'Holiday Effect', 'Worry Effect', 'Parent Meeting'])"
      ],
      "metadata": {
        "id": "-F248puS7VtG"
      },
      "execution_count": null,
      "outputs": []
    },
    {
      "cell_type": "code",
      "source": [
        "print(data)"
      ],
      "metadata": {
        "colab": {
          "base_uri": "https://localhost:8080/"
        },
        "id": "CSnjeOblPoDR",
        "outputId": "9c463dd0-065c-458b-ea66-9ea932c115ac"
      },
      "execution_count": null,
      "outputs": [
        {
          "output_type": "stream",
          "name": "stdout",
          "text": [
            "     Student_ID  Age  Family Size  Internet Usage  TV Usage  Sleep Hour  \\\n",
            "0             1    2            0               1         0           1   \n",
            "1             2    3            1               2         0           2   \n",
            "2             3    2            0               2         0           2   \n",
            "3             4    3            0               0         0           1   \n",
            "4             5    2            1               1         0           1   \n",
            "..          ...  ...          ...             ...       ...         ...   \n",
            "115         116    2            1               0         0           1   \n",
            "116         117    3            2               0         0           1   \n",
            "117         118    2            1               0         0           0   \n",
            "118         119    4            1               0         0           2   \n",
            "119         120    2            2               0         0           1   \n",
            "\n",
            "     Study Hour  Arrival Time  Islamea  arabic  ...  References Usage_no  \\\n",
            "0             3             0       54      60  ...                    0   \n",
            "1             0             0       70      77  ...                    0   \n",
            "2             0             0       73      62  ...                    1   \n",
            "3             1             1       70      65  ...                    0   \n",
            "4             1             1       50      35  ...                    0   \n",
            "..          ...           ...      ...     ...  ...                  ...   \n",
            "115           3             0       87      76  ...                    0   \n",
            "116           3             0       83      40  ...                    0   \n",
            "117           3             1       85      53  ...                    0   \n",
            "118           2             0       86      60  ...                    0   \n",
            "119           1             1       92      83  ...                    0   \n",
            "\n",
            "     References Usage_yes  Transport_car  Transport_foot  Holiday Effect_no  \\\n",
            "0                       1              0               1                  0   \n",
            "1                       1              0               1                  0   \n",
            "2                       0              0               1                  0   \n",
            "3                       1              0               1                  1   \n",
            "4                       1              0               1                  1   \n",
            "..                    ...            ...             ...                ...   \n",
            "115                     1              0               1                  1   \n",
            "116                     1              0               1                  0   \n",
            "117                     1              0               1                  0   \n",
            "118                     1              0               1                  0   \n",
            "119                     1              0               1                  1   \n",
            "\n",
            "     Holiday Effect_yes  Worry Effect_no  Worry Effect_yes  Parent Meeting_no  \\\n",
            "0                     1                1                 0                  0   \n",
            "1                     1                0                 1                  0   \n",
            "2                     1                0                 1                  1   \n",
            "3                     0                0                 1                  0   \n",
            "4                     0                0                 1                  0   \n",
            "..                  ...              ...               ...                ...   \n",
            "115                   0                0                 1                  0   \n",
            "116                   1                0                 1                  0   \n",
            "117                   1                0                 1                  0   \n",
            "118                   1                0                 1                  0   \n",
            "119                   0                1                 0                  1   \n",
            "\n",
            "     Parent Meeting_yes  \n",
            "0                     1  \n",
            "1                     1  \n",
            "2                     0  \n",
            "3                     1  \n",
            "4                     1  \n",
            "..                  ...  \n",
            "115                   1  \n",
            "116                   1  \n",
            "117                   1  \n",
            "118                   1  \n",
            "119                   0  \n",
            "\n",
            "[120 rows x 104 columns]\n"
          ]
        }
      ]
    },
    {
      "cell_type": "code",
      "source": [
        "target = data['Avg1']\n",
        "features = data.drop(columns=['Avg1'])"
      ],
      "metadata": {
        "id": "6lGD6j7MvsQP"
      },
      "execution_count": null,
      "outputs": []
    },
    {
      "cell_type": "code",
      "source": [
        "features = (features - features.mean()) / features.std()"
      ],
      "metadata": {
        "id": "C7oTjb_H6c8Q"
      },
      "execution_count": null,
      "outputs": []
    },
    {
      "cell_type": "code",
      "source": [
        "X_train, X_test, y_train, y_test = train_test_split(features, target, test_size=0.2, random_state=42)\n",
        "\n",
        "# Convert data to PyTorch tensors\n",
        "X_train_tensor = torch.tensor(X_train.values, dtype=torch.float32)\n",
        "y_train_tensor = torch.tensor(y_train.values, dtype=torch.float32)\n",
        "X_test_tensor = torch.tensor(X_test.values, dtype=torch.float32)\n",
        "y_test_tensor = torch.tensor(y_test.values, dtype=torch.float32)"
      ],
      "metadata": {
        "id": "S-faQ0HN6gEL"
      },
      "execution_count": null,
      "outputs": []
    },
    {
      "cell_type": "code",
      "source": [
        "class GNN(nn.Module):\n",
        "    def __init__(self, input_dim, hidden_dim, output_dim):\n",
        "        super(GNN, self).__init__()\n",
        "        self.fc1 = nn.Linear(input_dim, hidden_dim)\n",
        "        self.fc2 = nn.Linear(hidden_dim, output_dim)\n",
        "        self.relu = nn.ReLU()\n",
        "\n",
        "    def forward(self, x):\n",
        "        x = self.relu(self.fc1(x))\n",
        "        x = self.fc2(x)\n",
        "        return x\n",
        "\n",
        "# Instantiate the model\n",
        "input_dim = X_train.shape[1]  # Number of features\n",
        "hidden_dim = 64  # Hidden layer size\n",
        "output_dim = 1  # Output size\n",
        "model = GNN(input_dim, hidden_dim, output_dim)\n"
      ],
      "metadata": {
        "id": "g9flRbqtQBwv"
      },
      "execution_count": null,
      "outputs": []
    },
    {
      "cell_type": "code",
      "source": [
        "# Define loss function and optimizer\n",
        "criterion = nn.MSELoss()\n",
        "optimizer = optim.Adam(model.parameters(), lr=0.001)\n",
        "\n",
        "# Convert data to DataLoader for batching\n",
        "train_data = TensorDataset(X_train_tensor, y_train_tensor)\n",
        "train_loader = DataLoader(train_data, batch_size=64, shuffle=True)"
      ],
      "metadata": {
        "id": "SLvhalLEQQcM"
      },
      "execution_count": null,
      "outputs": []
    },
    {
      "cell_type": "code",
      "source": [
        "# Training the model\n",
        "from sklearn.metrics import r2_score\n",
        "\n",
        "epochs = 500\n",
        "train_losses = []\n",
        "train_accuracies = []\n",
        "\n",
        "for epoch in range(epochs):\n",
        "    model.train()\n",
        "    running_loss = 0.0\n",
        "    y_true = []\n",
        "    y_pred = []\n",
        "\n",
        "    for inputs, labels in train_loader:\n",
        "        optimizer.zero_grad()\n",
        "        outputs = model(inputs)\n",
        "        loss = criterion(outputs.squeeze(), labels)\n",
        "        loss.backward()\n",
        "        optimizer.step()\n",
        "        running_loss += loss.item()\n",
        "\n",
        "        # Store predictions for computing accuracy\n",
        "        y_true.extend(labels.numpy())\n",
        "        y_pred.extend(outputs.squeeze().detach().numpy())\n",
        "\n",
        "    train_losses.append(running_loss / len(train_loader))\n",
        "\n",
        "    # Compute R-squared\n",
        "    r2 = r2_score(y_true, y_pred)\n",
        "    train_accuracies.append(r2)\n",
        "\n",
        "    print(f'Epoch {epoch+1}/{epochs}, Loss: {train_losses[-1]}, Accuracy: {train_accuracies[-1]}')\n",
        "\n",
        "\n"
      ],
      "metadata": {
        "colab": {
          "base_uri": "https://localhost:8080/"
        },
        "id": "KaZIw-YkQ3se",
        "outputId": "52b040e4-9a2c-4731-c0c1-6e189d002088"
      },
      "execution_count": null,
      "outputs": [
        {
          "output_type": "stream",
          "name": "stdout",
          "text": [
            "Epoch 1/500, Loss: 4503.881103515625, Accuracy: -18.41993236558233\n",
            "Epoch 2/500, Loss: 4399.156005859375, Accuracy: -18.373142384650954\n",
            "Epoch 3/500, Loss: 4575.06982421875, Accuracy: -18.325355216603082\n",
            "Epoch 4/500, Loss: 4569.693115234375, Accuracy: -18.279683934034658\n",
            "Epoch 5/500, Loss: 4459.90087890625, Accuracy: -18.234858458123142\n",
            "Epoch 6/500, Loss: 4433.22509765625, Accuracy: -18.187840969983423\n",
            "Epoch 7/500, Loss: 4555.77978515625, Accuracy: -18.138416869356284\n",
            "Epoch 8/500, Loss: 4527.923583984375, Accuracy: -18.088845454362705\n",
            "Epoch 9/500, Loss: 4523.4404296875, Accuracy: -18.037761024279643\n",
            "Epoch 10/500, Loss: 4452.410400390625, Accuracy: -17.98469907983427\n",
            "Epoch 11/500, Loss: 4509.729736328125, Accuracy: -17.929941299697376\n",
            "Epoch 12/500, Loss: 4377.554931640625, Accuracy: -17.873774123829737\n",
            "Epoch 13/500, Loss: 4442.911376953125, Accuracy: -17.813816856035494\n",
            "Epoch 14/500, Loss: 4364.510009765625, Accuracy: -17.75386658871178\n",
            "Epoch 15/500, Loss: 4549.29736328125, Accuracy: -17.68721912105544\n",
            "Epoch 16/500, Loss: 4400.247802734375, Accuracy: -17.62258318120999\n",
            "Epoch 17/500, Loss: 4305.945068359375, Accuracy: -17.558278386793553\n",
            "Epoch 18/500, Loss: 4255.101806640625, Accuracy: -17.486435050275833\n",
            "Epoch 19/500, Loss: 4420.302734375, Accuracy: -17.409580764562104\n",
            "Epoch 20/500, Loss: 4298.84130859375, Accuracy: -17.335539245270574\n",
            "Epoch 21/500, Loss: 4400.04443359375, Accuracy: -17.253386691973045\n",
            "Epoch 22/500, Loss: 4368.908447265625, Accuracy: -17.17000671206541\n",
            "Epoch 23/500, Loss: 4307.83642578125, Accuracy: -17.085182697840192\n",
            "Epoch 24/500, Loss: 4196.88427734375, Accuracy: -16.997837021439352\n",
            "Epoch 25/500, Loss: 4251.693115234375, Accuracy: -16.901522093225786\n",
            "Epoch 26/500, Loss: 4205.388427734375, Accuracy: -16.807882239346743\n",
            "Epoch 27/500, Loss: 4214.56494140625, Accuracy: -16.707591057348395\n",
            "Epoch 28/500, Loss: 4210.01953125, Accuracy: -16.60470309958076\n",
            "Epoch 29/500, Loss: 4118.9287109375, Accuracy: -16.496459701025483\n",
            "Epoch 30/500, Loss: 4117.983642578125, Accuracy: -16.38411464649231\n",
            "Epoch 31/500, Loss: 4056.2685546875, Accuracy: -16.270614934674267\n",
            "Epoch 32/500, Loss: 4016.05615234375, Accuracy: -16.15604498348554\n",
            "Epoch 33/500, Loss: 4051.994384765625, Accuracy: -16.031938041785686\n",
            "Epoch 34/500, Loss: 3943.666748046875, Accuracy: -15.908724767542367\n",
            "Epoch 35/500, Loss: 4002.81591796875, Accuracy: -15.774229033275361\n",
            "Epoch 36/500, Loss: 3910.25830078125, Accuracy: -15.647268588774025\n",
            "Epoch 37/500, Loss: 3901.2857666015625, Accuracy: -15.504742010648364\n",
            "Epoch 38/500, Loss: 3787.6490478515625, Accuracy: -15.368362858797791\n",
            "Epoch 39/500, Loss: 3795.258056640625, Accuracy: -15.228427842465102\n",
            "Epoch 40/500, Loss: 3830.0703125, Accuracy: -15.073226694196403\n",
            "Epoch 41/500, Loss: 3755.66162109375, Accuracy: -14.923305889289058\n",
            "Epoch 42/500, Loss: 3699.2647705078125, Accuracy: -14.770050632010046\n",
            "Epoch 43/500, Loss: 3560.0714111328125, Accuracy: -14.615860900836614\n",
            "Epoch 44/500, Loss: 3729.6351318359375, Accuracy: -14.443858240682783\n",
            "Epoch 45/500, Loss: 3586.1671142578125, Accuracy: -14.281575747324224\n",
            "Epoch 46/500, Loss: 3570.2200927734375, Accuracy: -14.11215027078372\n",
            "Epoch 47/500, Loss: 3555.2208251953125, Accuracy: -13.935851439653462\n",
            "Epoch 48/500, Loss: 3573.4617919921875, Accuracy: -13.753034661193327\n",
            "Epoch 49/500, Loss: 3445.95751953125, Accuracy: -13.579069732505603\n",
            "Epoch 50/500, Loss: 3409.0841064453125, Accuracy: -13.396141272559015\n",
            "Epoch 51/500, Loss: 3321.1390380859375, Accuracy: -13.210976146112666\n",
            "Epoch 52/500, Loss: 3253.632080078125, Accuracy: -13.027049752656067\n",
            "Epoch 53/500, Loss: 3290.7974853515625, Accuracy: -12.822678412281194\n",
            "Epoch 54/500, Loss: 3197.62451171875, Accuracy: -12.640305985858276\n",
            "Epoch 55/500, Loss: 3175.659912109375, Accuracy: -12.44031150510103\n",
            "Epoch 56/500, Loss: 3179.8348388671875, Accuracy: -12.249288668927033\n",
            "Epoch 57/500, Loss: 3086.022705078125, Accuracy: -12.050346883251182\n",
            "Epoch 58/500, Loss: 3023.4189453125, Accuracy: -11.847318870656025\n",
            "Epoch 59/500, Loss: 2951.109375, Accuracy: -11.646369916969633\n",
            "Epoch 60/500, Loss: 2988.2991943359375, Accuracy: -11.440997188657033\n",
            "Epoch 61/500, Loss: 2857.6624755859375, Accuracy: -11.242993552257351\n",
            "Epoch 62/500, Loss: 2878.7576904296875, Accuracy: -11.034929504099532\n",
            "Epoch 63/500, Loss: 2837.8270263671875, Accuracy: -10.82625956494841\n",
            "Epoch 64/500, Loss: 2771.5625, Accuracy: -10.616452984349957\n",
            "Epoch 65/500, Loss: 2656.30712890625, Accuracy: -10.413147803779808\n",
            "Epoch 66/500, Loss: 2616.2342529296875, Accuracy: -10.206010215890792\n",
            "Epoch 67/500, Loss: 2540.9127197265625, Accuracy: -9.99952376068103\n",
            "Epoch 68/500, Loss: 2584.0225830078125, Accuracy: -9.78992426521005\n",
            "Epoch 69/500, Loss: 2506.970458984375, Accuracy: -9.584330477774543\n",
            "Epoch 70/500, Loss: 2433.7037353515625, Accuracy: -9.383061301063785\n",
            "Epoch 71/500, Loss: 2422.7890625, Accuracy: -9.1706296949143\n",
            "Epoch 72/500, Loss: 2362.2647705078125, Accuracy: -8.972373601014969\n",
            "Epoch 73/500, Loss: 2279.112060546875, Accuracy: -8.770142946862698\n",
            "Epoch 74/500, Loss: 2304.6968994140625, Accuracy: -8.565033077056762\n",
            "Epoch 75/500, Loss: 2188.03662109375, Accuracy: -8.364282321834336\n",
            "Epoch 76/500, Loss: 2130.3043212890625, Accuracy: -8.169786636573194\n",
            "Epoch 77/500, Loss: 2089.2284545898438, Accuracy: -7.969231565788947\n",
            "Epoch 78/500, Loss: 2059.4130859375, Accuracy: -7.777821247643416\n",
            "Epoch 79/500, Loss: 1963.6043090820312, Accuracy: -7.584322118971405\n",
            "Epoch 80/500, Loss: 1988.9549560546875, Accuracy: -7.393025461467678\n",
            "Epoch 81/500, Loss: 1910.281982421875, Accuracy: -7.204924351021674\n",
            "Epoch 82/500, Loss: 1956.8112182617188, Accuracy: -7.020654668421464\n",
            "Epoch 83/500, Loss: 1900.0441284179688, Accuracy: -6.83521267983284\n",
            "Epoch 84/500, Loss: 1843.2572021484375, Accuracy: -6.659211426632919\n",
            "Epoch 85/500, Loss: 1741.6395874023438, Accuracy: -6.484157162891489\n",
            "Epoch 86/500, Loss: 1693.1094970703125, Accuracy: -6.308981724050145\n",
            "Epoch 87/500, Loss: 1726.7572631835938, Accuracy: -6.14177002573121\n",
            "Epoch 88/500, Loss: 1639.1598510742188, Accuracy: -5.971401204126512\n",
            "Epoch 89/500, Loss: 1605.34130859375, Accuracy: -5.80874817287216\n",
            "Epoch 90/500, Loss: 1572.48876953125, Accuracy: -5.653626920033148\n",
            "Epoch 91/500, Loss: 1573.836181640625, Accuracy: -5.49249232414695\n",
            "Epoch 92/500, Loss: 1538.322509765625, Accuracy: -5.343134310639066\n",
            "Epoch 93/500, Loss: 1479.236572265625, Accuracy: -5.193584954052448\n",
            "Epoch 94/500, Loss: 1457.7139892578125, Accuracy: -5.045596295661253\n",
            "Epoch 95/500, Loss: 1412.3842163085938, Accuracy: -4.902711351226265\n",
            "Epoch 96/500, Loss: 1373.4569702148438, Accuracy: -4.761753443645375\n",
            "Epoch 97/500, Loss: 1278.879638671875, Accuracy: -4.627202903667754\n",
            "Epoch 98/500, Loss: 1294.011962890625, Accuracy: -4.490750246150413\n",
            "Epoch 99/500, Loss: 1267.2758178710938, Accuracy: -4.362289804385704\n",
            "Epoch 100/500, Loss: 1244.5654296875, Accuracy: -4.234550671054876\n",
            "Epoch 101/500, Loss: 1243.3359985351562, Accuracy: -4.108638718342159\n",
            "Epoch 102/500, Loss: 1177.168701171875, Accuracy: -3.9903173583351963\n",
            "Epoch 103/500, Loss: 1185.2743530273438, Accuracy: -3.868929412729254\n",
            "Epoch 104/500, Loss: 1126.6830444335938, Accuracy: -3.7551849666225285\n",
            "Epoch 105/500, Loss: 1057.2955932617188, Accuracy: -3.645960211274005\n",
            "Epoch 106/500, Loss: 1066.0947875976562, Accuracy: -3.535046003285797\n",
            "Epoch 107/500, Loss: 1053.086181640625, Accuracy: -3.4276487490361625\n",
            "Epoch 108/500, Loss: 1018.9294128417969, Accuracy: -3.324089865114847\n",
            "Epoch 109/500, Loss: 1019.5512390136719, Accuracy: -3.225756960731288\n",
            "Epoch 110/500, Loss: 972.7845153808594, Accuracy: -3.128234761627538\n",
            "Epoch 111/500, Loss: 968.112060546875, Accuracy: -3.0306968409960824\n",
            "Epoch 112/500, Loss: 936.9038391113281, Accuracy: -2.94015320023964\n",
            "Epoch 113/500, Loss: 963.1770324707031, Accuracy: -2.8496276352563075\n",
            "Epoch 114/500, Loss: 890.5884399414062, Accuracy: -2.763514508899754\n",
            "Epoch 115/500, Loss: 856.1301574707031, Accuracy: -2.678126385630441\n",
            "Epoch 116/500, Loss: 841.2671508789062, Accuracy: -2.594369045660173\n",
            "Epoch 117/500, Loss: 870.1333312988281, Accuracy: -2.512134062854782\n",
            "Epoch 118/500, Loss: 786.3040161132812, Accuracy: -2.4389386670308495\n",
            "Epoch 119/500, Loss: 798.2793884277344, Accuracy: -2.3594421538347703\n",
            "Epoch 120/500, Loss: 749.4827575683594, Accuracy: -2.286997758535444\n",
            "Epoch 121/500, Loss: 754.9924011230469, Accuracy: -2.216492438043281\n",
            "Epoch 122/500, Loss: 753.794921875, Accuracy: -2.1454664487229236\n",
            "Epoch 123/500, Loss: 732.9412841796875, Accuracy: -2.078955354228658\n",
            "Epoch 124/500, Loss: 705.0144653320312, Accuracy: -2.015682155966311\n",
            "Epoch 125/500, Loss: 709.7994995117188, Accuracy: -1.9500328230371435\n",
            "Epoch 126/500, Loss: 698.1507263183594, Accuracy: -1.8867057178435322\n",
            "Epoch 127/500, Loss: 623.9030303955078, Accuracy: -1.8283304545287051\n",
            "Epoch 128/500, Loss: 621.2431945800781, Accuracy: -1.7691004793355076\n",
            "Epoch 129/500, Loss: 640.0460510253906, Accuracy: -1.7097870898061251\n",
            "Epoch 130/500, Loss: 601.4022216796875, Accuracy: -1.6566688932530296\n",
            "Epoch 131/500, Loss: 652.710693359375, Accuracy: -1.6003622160115691\n",
            "Epoch 132/500, Loss: 591.5737915039062, Accuracy: -1.5484565893153257\n",
            "Epoch 133/500, Loss: 573.9674377441406, Accuracy: -1.4975262779293663\n",
            "Epoch 134/500, Loss: 570.0976257324219, Accuracy: -1.4465216204945115\n",
            "Epoch 135/500, Loss: 553.5061950683594, Accuracy: -1.3969697288034775\n",
            "Epoch 136/500, Loss: 534.7896728515625, Accuracy: -1.3505981249847263\n",
            "Epoch 137/500, Loss: 556.5265502929688, Accuracy: -1.3022954239407172\n",
            "Epoch 138/500, Loss: 541.3016662597656, Accuracy: -1.2587768334362375\n",
            "Epoch 139/500, Loss: 560.6661224365234, Accuracy: -1.2142533460480687\n",
            "Epoch 140/500, Loss: 515.3780822753906, Accuracy: -1.1711167447530952\n",
            "Epoch 141/500, Loss: 498.23463439941406, Accuracy: -1.1286885924364194\n",
            "Epoch 142/500, Loss: 501.8310852050781, Accuracy: -1.0863698654636176\n",
            "Epoch 143/500, Loss: 486.9357147216797, Accuracy: -1.0466315363238188\n",
            "Epoch 144/500, Loss: 462.6640930175781, Accuracy: -1.0082140786111982\n",
            "Epoch 145/500, Loss: 436.18519592285156, Accuracy: -0.9702700959746724\n",
            "Epoch 146/500, Loss: 447.1346740722656, Accuracy: -0.9314991896993208\n",
            "Epoch 147/500, Loss: 452.2335968017578, Accuracy: -0.8959590727876037\n",
            "Epoch 148/500, Loss: 437.62152099609375, Accuracy: -0.8609116986019196\n",
            "Epoch 149/500, Loss: 428.03257751464844, Accuracy: -0.826746188810005\n",
            "Epoch 150/500, Loss: 421.6927795410156, Accuracy: -0.791854681340179\n",
            "Epoch 151/500, Loss: 400.60826110839844, Accuracy: -0.7613028030057598\n",
            "Epoch 152/500, Loss: 425.1233367919922, Accuracy: -0.7272320304545035\n",
            "Epoch 153/500, Loss: 406.6325225830078, Accuracy: -0.6957209549748404\n",
            "Epoch 154/500, Loss: 403.8800964355469, Accuracy: -0.6650578836195331\n",
            "Epoch 155/500, Loss: 377.50843811035156, Accuracy: -0.6363327325307702\n",
            "Epoch 156/500, Loss: 370.2887268066406, Accuracy: -0.6061777619305013\n",
            "Epoch 157/500, Loss: 371.60040283203125, Accuracy: -0.5770520847721206\n",
            "Epoch 158/500, Loss: 381.85765075683594, Accuracy: -0.5484477791257882\n",
            "Epoch 159/500, Loss: 343.36720275878906, Accuracy: -0.5220144620231906\n",
            "Epoch 160/500, Loss: 340.469970703125, Accuracy: -0.49513767873523906\n",
            "Epoch 161/500, Loss: 357.5874328613281, Accuracy: -0.4673639340693587\n",
            "Epoch 162/500, Loss: 336.35658264160156, Accuracy: -0.44261345133379537\n",
            "Epoch 163/500, Loss: 327.6695098876953, Accuracy: -0.41619746157896076\n",
            "Epoch 164/500, Loss: 347.7765350341797, Accuracy: -0.3911209963446216\n",
            "Epoch 165/500, Loss: 317.4731140136719, Accuracy: -0.36768738445010696\n",
            "Epoch 166/500, Loss: 311.7547607421875, Accuracy: -0.34381304594548645\n",
            "Epoch 167/500, Loss: 307.1803741455078, Accuracy: -0.3206332488668542\n",
            "Epoch 168/500, Loss: 298.6188201904297, Accuracy: -0.29723744935318575\n",
            "Epoch 169/500, Loss: 280.5128707885742, Accuracy: -0.2760820750297528\n",
            "Epoch 170/500, Loss: 292.02105712890625, Accuracy: -0.2537794777704696\n",
            "Epoch 171/500, Loss: 310.1082000732422, Accuracy: -0.23216085405521136\n",
            "Epoch 172/500, Loss: 290.51161193847656, Accuracy: -0.2115577947353542\n",
            "Epoch 173/500, Loss: 299.0373229980469, Accuracy: -0.19112548854147837\n",
            "Epoch 174/500, Loss: 276.6869812011719, Accuracy: -0.17139679138490593\n",
            "Epoch 175/500, Loss: 299.7225341796875, Accuracy: -0.15064875420132307\n",
            "Epoch 176/500, Loss: 273.8969192504883, Accuracy: -0.13115463166582586\n",
            "Epoch 177/500, Loss: 254.0440216064453, Accuracy: -0.11271486888627447\n",
            "Epoch 178/500, Loss: 279.4364547729492, Accuracy: -0.09299182892212188\n",
            "Epoch 179/500, Loss: 245.7652130126953, Accuracy: -0.07473735602989362\n",
            "Epoch 180/500, Loss: 242.68870544433594, Accuracy: -0.05676356355830947\n",
            "Epoch 181/500, Loss: 254.0165786743164, Accuracy: -0.03786134240200156\n",
            "Epoch 182/500, Loss: 237.23224639892578, Accuracy: -0.020516897674976997\n",
            "Epoch 183/500, Loss: 234.70101928710938, Accuracy: -0.0036587966947216888\n",
            "Epoch 184/500, Loss: 214.47547912597656, Accuracy: 0.012978570355061336\n",
            "Epoch 185/500, Loss: 232.9956817626953, Accuracy: 0.030517479325575914\n",
            "Epoch 186/500, Loss: 216.762451171875, Accuracy: 0.0460351449527\n",
            "Epoch 187/500, Loss: 236.93795776367188, Accuracy: 0.06253591936012248\n",
            "Epoch 188/500, Loss: 201.1531524658203, Accuracy: 0.07756640234512235\n",
            "Epoch 189/500, Loss: 206.78045654296875, Accuracy: 0.09315573155305279\n",
            "Epoch 190/500, Loss: 207.11378479003906, Accuracy: 0.10872168403715965\n",
            "Epoch 191/500, Loss: 213.3694305419922, Accuracy: 0.12358423109324934\n",
            "Epoch 192/500, Loss: 194.6116943359375, Accuracy: 0.13751119333161088\n",
            "Epoch 193/500, Loss: 205.1331329345703, Accuracy: 0.15244547366090477\n",
            "Epoch 194/500, Loss: 198.0800323486328, Accuracy: 0.1659878443887156\n",
            "Epoch 195/500, Loss: 183.7962417602539, Accuracy: 0.1799494582615777\n",
            "Epoch 196/500, Loss: 207.02203369140625, Accuracy: 0.19408281557217655\n",
            "Epoch 197/500, Loss: 203.52439880371094, Accuracy: 0.20734399640264622\n",
            "Epoch 198/500, Loss: 177.2593002319336, Accuracy: 0.2203733185390956\n",
            "Epoch 199/500, Loss: 182.67222595214844, Accuracy: 0.23355755130989975\n",
            "Epoch 200/500, Loss: 173.86217498779297, Accuracy: 0.24640951050446924\n",
            "Epoch 201/500, Loss: 165.656494140625, Accuracy: 0.25849912626148275\n",
            "Epoch 202/500, Loss: 161.3851318359375, Accuracy: 0.27140205291323916\n",
            "Epoch 203/500, Loss: 180.35338592529297, Accuracy: 0.28451215515491746\n",
            "Epoch 204/500, Loss: 157.31971740722656, Accuracy: 0.29569996699577816\n",
            "Epoch 205/500, Loss: 157.94234466552734, Accuracy: 0.30756006622617726\n",
            "Epoch 206/500, Loss: 146.5833511352539, Accuracy: 0.319143374366353\n",
            "Epoch 207/500, Loss: 162.78860473632812, Accuracy: 0.33090995040468507\n",
            "Epoch 208/500, Loss: 142.3618049621582, Accuracy: 0.3414617844893012\n",
            "Epoch 209/500, Loss: 148.90933990478516, Accuracy: 0.3532042211355596\n",
            "Epoch 210/500, Loss: 151.49114227294922, Accuracy: 0.36378027726821127\n",
            "Epoch 211/500, Loss: 152.52806091308594, Accuracy: 0.374303846122253\n",
            "Epoch 212/500, Loss: 142.7899169921875, Accuracy: 0.38430875415938437\n",
            "Epoch 213/500, Loss: 154.05458068847656, Accuracy: 0.3952947233213071\n",
            "Epoch 214/500, Loss: 142.29381561279297, Accuracy: 0.4050760680546406\n",
            "Epoch 215/500, Loss: 147.9290428161621, Accuracy: 0.4150779684506096\n",
            "Epoch 216/500, Loss: 130.95116424560547, Accuracy: 0.4247672553865618\n",
            "Epoch 217/500, Loss: 139.3186492919922, Accuracy: 0.43496553948878103\n",
            "Epoch 218/500, Loss: 135.42427825927734, Accuracy: 0.4444151054433054\n",
            "Epoch 219/500, Loss: 134.25074005126953, Accuracy: 0.45367767560917827\n",
            "Epoch 220/500, Loss: 123.39983367919922, Accuracy: 0.4631574423562279\n",
            "Epoch 221/500, Loss: 128.12546920776367, Accuracy: 0.47225224456711656\n",
            "Epoch 222/500, Loss: 109.6490707397461, Accuracy: 0.48074125480011143\n",
            "Epoch 223/500, Loss: 126.90890502929688, Accuracy: 0.4903195193707276\n",
            "Epoch 224/500, Loss: 118.5861930847168, Accuracy: 0.4983043418164278\n",
            "Epoch 225/500, Loss: 108.25733947753906, Accuracy: 0.5067383600348283\n",
            "Epoch 226/500, Loss: 118.02595520019531, Accuracy: 0.5153186714783423\n",
            "Epoch 227/500, Loss: 119.6740837097168, Accuracy: 0.5235757333071114\n",
            "Epoch 228/500, Loss: 112.35713577270508, Accuracy: 0.5314899131353847\n",
            "Epoch 229/500, Loss: 115.69917297363281, Accuracy: 0.5394107022685553\n",
            "Epoch 230/500, Loss: 108.49049377441406, Accuracy: 0.5473464428388186\n",
            "Epoch 231/500, Loss: 101.930419921875, Accuracy: 0.554391459139773\n",
            "Epoch 232/500, Loss: 98.28437423706055, Accuracy: 0.5622657167758625\n",
            "Epoch 233/500, Loss: 93.49932861328125, Accuracy: 0.5690952835343932\n",
            "Epoch 234/500, Loss: 105.9735336303711, Accuracy: 0.576941458143259\n",
            "Epoch 235/500, Loss: 94.4142074584961, Accuracy: 0.5835170447518734\n",
            "Epoch 236/500, Loss: 91.4170036315918, Accuracy: 0.5905461637674981\n",
            "Epoch 237/500, Loss: 104.63203811645508, Accuracy: 0.5974957112277559\n",
            "Epoch 238/500, Loss: 93.58331680297852, Accuracy: 0.6040309551443106\n",
            "Epoch 239/500, Loss: 95.4650650024414, Accuracy: 0.6103994671869146\n",
            "Epoch 240/500, Loss: 97.66065216064453, Accuracy: 0.6170834934625018\n",
            "Epoch 241/500, Loss: 92.97255325317383, Accuracy: 0.6231910976239903\n",
            "Epoch 242/500, Loss: 92.04877853393555, Accuracy: 0.6294454813202202\n",
            "Epoch 243/500, Loss: 82.78392791748047, Accuracy: 0.6355471049190784\n",
            "Epoch 244/500, Loss: 87.263427734375, Accuracy: 0.64182288625026\n",
            "Epoch 245/500, Loss: 89.63115310668945, Accuracy: 0.6478479156047824\n",
            "Epoch 246/500, Loss: 80.51206588745117, Accuracy: 0.65334472819029\n",
            "Epoch 247/500, Loss: 88.1009407043457, Accuracy: 0.6594643688600554\n",
            "Epoch 248/500, Loss: 76.80503845214844, Accuracy: 0.6645649309923434\n",
            "Epoch 249/500, Loss: 82.90233993530273, Accuracy: 0.6703657436846204\n",
            "Epoch 250/500, Loss: 73.18827056884766, Accuracy: 0.6758375088925228\n",
            "Epoch 251/500, Loss: 71.79273796081543, Accuracy: 0.6811625396964291\n",
            "Epoch 252/500, Loss: 69.54285049438477, Accuracy: 0.6864155402251284\n",
            "Epoch 253/500, Loss: 69.85102462768555, Accuracy: 0.6913662047180712\n",
            "Epoch 254/500, Loss: 70.6016616821289, Accuracy: 0.6965616821140587\n",
            "Epoch 255/500, Loss: 69.22678756713867, Accuracy: 0.7013921283809572\n",
            "Epoch 256/500, Loss: 79.5667896270752, Accuracy: 0.7065818578503139\n",
            "Epoch 257/500, Loss: 69.4949722290039, Accuracy: 0.7110130705613051\n",
            "Epoch 258/500, Loss: 67.11566162109375, Accuracy: 0.7156256806632404\n",
            "Epoch 259/500, Loss: 62.47276306152344, Accuracy: 0.7201923049580847\n",
            "Epoch 260/500, Loss: 65.36304092407227, Accuracy: 0.7249637585212672\n",
            "Epoch 261/500, Loss: 62.08295440673828, Accuracy: 0.7291155980260766\n",
            "Epoch 262/500, Loss: 62.70114707946777, Accuracy: 0.7335988249533014\n",
            "Epoch 263/500, Loss: 61.99560356140137, Accuracy: 0.7378414203519919\n",
            "Epoch 264/500, Loss: 66.6325454711914, Accuracy: 0.7420662534124495\n",
            "Epoch 265/500, Loss: 54.82790756225586, Accuracy: 0.7458851866641865\n",
            "Epoch 266/500, Loss: 56.78597831726074, Accuracy: 0.7501121545213102\n",
            "Epoch 267/500, Loss: 62.5118408203125, Accuracy: 0.7539564813369841\n",
            "Epoch 268/500, Loss: 53.77268409729004, Accuracy: 0.7578062826328374\n",
            "Epoch 269/500, Loss: 57.712371826171875, Accuracy: 0.7618886483647853\n",
            "Epoch 270/500, Loss: 52.20503807067871, Accuracy: 0.7651641245238732\n",
            "Epoch 271/500, Loss: 57.44560623168945, Accuracy: 0.7691123854428403\n",
            "Epoch 272/500, Loss: 54.3672981262207, Accuracy: 0.772659998271999\n",
            "Epoch 273/500, Loss: 55.67864799499512, Accuracy: 0.7763108131244432\n",
            "Epoch 274/500, Loss: 51.419857025146484, Accuracy: 0.7796821517097706\n",
            "Epoch 275/500, Loss: 57.07741737365723, Accuracy: 0.7833980658278977\n",
            "Epoch 276/500, Loss: 49.638545989990234, Accuracy: 0.7867379263483516\n",
            "Epoch 277/500, Loss: 44.788352966308594, Accuracy: 0.7899557125289607\n",
            "Epoch 278/500, Loss: 49.74841117858887, Accuracy: 0.793523175948197\n",
            "Epoch 279/500, Loss: 45.704524993896484, Accuracy: 0.7966257770497027\n",
            "Epoch 280/500, Loss: 49.45388412475586, Accuracy: 0.7999703903425969\n",
            "Epoch 281/500, Loss: 49.86375045776367, Accuracy: 0.8031501398063714\n",
            "Epoch 282/500, Loss: 45.2922306060791, Accuracy: 0.8060958285951866\n",
            "Epoch 283/500, Loss: 42.286415100097656, Accuracy: 0.8091321023213831\n",
            "Epoch 284/500, Loss: 42.54610252380371, Accuracy: 0.812121348207224\n",
            "Epoch 285/500, Loss: 43.68990898132324, Accuracy: 0.8150168269140053\n",
            "Epoch 286/500, Loss: 42.36167526245117, Accuracy: 0.8180052286987807\n",
            "Epoch 287/500, Loss: 39.44144821166992, Accuracy: 0.8206542843227144\n",
            "Epoch 288/500, Loss: 41.16121482849121, Accuracy: 0.8233277812928643\n",
            "Epoch 289/500, Loss: 42.76823616027832, Accuracy: 0.8261771562159945\n",
            "Epoch 290/500, Loss: 38.71735191345215, Accuracy: 0.8286365886169283\n",
            "Epoch 291/500, Loss: 37.658151626586914, Accuracy: 0.8311499163731123\n",
            "Epoch 292/500, Loss: 39.15281105041504, Accuracy: 0.8338620178766136\n",
            "Epoch 293/500, Loss: 39.77501678466797, Accuracy: 0.8363396827115502\n",
            "Epoch 294/500, Loss: 39.41948318481445, Accuracy: 0.838560973479183\n",
            "Epoch 295/500, Loss: 37.44821357727051, Accuracy: 0.8411415952594883\n",
            "Epoch 296/500, Loss: 40.44046497344971, Accuracy: 0.8434569055890133\n",
            "Epoch 297/500, Loss: 37.55748748779297, Accuracy: 0.8458424853271844\n",
            "Epoch 298/500, Loss: 35.78790092468262, Accuracy: 0.8481194898427142\n",
            "Epoch 299/500, Loss: 32.71320819854736, Accuracy: 0.8503831959666227\n",
            "Epoch 300/500, Loss: 37.634700775146484, Accuracy: 0.8527177975829924\n",
            "Epoch 301/500, Loss: 35.51834487915039, Accuracy: 0.854941081464778\n",
            "Epoch 302/500, Loss: 32.02167892456055, Accuracy: 0.8570213267946498\n",
            "Epoch 303/500, Loss: 30.10743522644043, Accuracy: 0.8591340561231214\n",
            "Epoch 304/500, Loss: 33.289204597473145, Accuracy: 0.8613736111922442\n",
            "Epoch 305/500, Loss: 33.968050956726074, Accuracy: 0.8634028380716743\n",
            "Epoch 306/500, Loss: 28.7320556640625, Accuracy: 0.8653176671147728\n",
            "Epoch 307/500, Loss: 28.041288375854492, Accuracy: 0.8672418249105979\n",
            "Epoch 308/500, Loss: 34.59879112243652, Accuracy: 0.8694149606438777\n",
            "Epoch 309/500, Loss: 29.68332576751709, Accuracy: 0.8711969198433698\n",
            "Epoch 310/500, Loss: 27.903053283691406, Accuracy: 0.8730270055352621\n",
            "Epoch 311/500, Loss: 31.664796829223633, Accuracy: 0.8750196657466335\n",
            "Epoch 312/500, Loss: 27.88214874267578, Accuracy: 0.8766678197849292\n",
            "Epoch 313/500, Loss: 29.779078483581543, Accuracy: 0.8785439073312795\n",
            "Epoch 314/500, Loss: 29.68334674835205, Accuracy: 0.8803111686019546\n",
            "Epoch 315/500, Loss: 28.719307899475098, Accuracy: 0.8821191324992539\n",
            "Epoch 316/500, Loss: 25.609676361083984, Accuracy: 0.8837282185617065\n",
            "Epoch 317/500, Loss: 24.02352809906006, Accuracy: 0.8853612672407121\n",
            "Epoch 318/500, Loss: 27.58297634124756, Accuracy: 0.8871517517467705\n",
            "Epoch 319/500, Loss: 26.763972282409668, Accuracy: 0.8887021565050353\n",
            "Epoch 320/500, Loss: 27.034934043884277, Accuracy: 0.89030427883881\n",
            "Epoch 321/500, Loss: 23.942222595214844, Accuracy: 0.8917598104497472\n",
            "Epoch 322/500, Loss: 21.9812068939209, Accuracy: 0.893190136889566\n",
            "Epoch 323/500, Loss: 26.28632640838623, Accuracy: 0.8948574910478696\n",
            "Epoch 324/500, Loss: 24.99512481689453, Accuracy: 0.89629608437511\n",
            "Epoch 325/500, Loss: 22.946704864501953, Accuracy: 0.8976176402890798\n",
            "Epoch 326/500, Loss: 26.180503845214844, Accuracy: 0.8991083116933699\n",
            "Epoch 327/500, Loss: 21.728659629821777, Accuracy: 0.9003921600122046\n",
            "Epoch 328/500, Loss: 23.610220909118652, Accuracy: 0.9017703084127056\n",
            "Epoch 329/500, Loss: 22.314244270324707, Accuracy: 0.9031560531703668\n",
            "Epoch 330/500, Loss: 22.75089454650879, Accuracy: 0.9044650163364021\n",
            "Epoch 331/500, Loss: 22.635639190673828, Accuracy: 0.905780116336359\n",
            "Epoch 332/500, Loss: 21.92971706390381, Accuracy: 0.9070260166668994\n",
            "Epoch 333/500, Loss: 22.43206024169922, Accuracy: 0.9083364662447988\n",
            "Epoch 334/500, Loss: 19.95234489440918, Accuracy: 0.909493956112028\n",
            "Epoch 335/500, Loss: 21.290132522583008, Accuracy: 0.9108135670408426\n",
            "Epoch 336/500, Loss: 20.425715446472168, Accuracy: 0.9120684939795575\n",
            "Epoch 337/500, Loss: 19.166102409362793, Accuracy: 0.9132223279665495\n",
            "Epoch 338/500, Loss: 19.516396522521973, Accuracy: 0.9144220177610092\n",
            "Epoch 339/500, Loss: 17.99250078201294, Accuracy: 0.9155635531187795\n",
            "Epoch 340/500, Loss: 20.57921600341797, Accuracy: 0.9167416628738523\n",
            "Epoch 341/500, Loss: 20.11586856842041, Accuracy: 0.9178695815058575\n",
            "Epoch 342/500, Loss: 19.337327003479004, Accuracy: 0.9190324573899725\n",
            "Epoch 343/500, Loss: 17.190663814544678, Accuracy: 0.9200739017002209\n",
            "Epoch 344/500, Loss: 18.742039680480957, Accuracy: 0.9212692954533885\n",
            "Epoch 345/500, Loss: 16.045247077941895, Accuracy: 0.9222017057941352\n",
            "Epoch 346/500, Loss: 19.648390769958496, Accuracy: 0.9233519246453873\n",
            "Epoch 347/500, Loss: 15.990718841552734, Accuracy: 0.9243066373475027\n",
            "Epoch 348/500, Loss: 16.71841049194336, Accuracy: 0.9253466667194091\n",
            "Epoch 349/500, Loss: 16.288382053375244, Accuracy: 0.9263549403634482\n",
            "Epoch 350/500, Loss: 14.02362322807312, Accuracy: 0.9272649264044897\n",
            "Epoch 351/500, Loss: 16.97548770904541, Accuracy: 0.9283293712831178\n",
            "Epoch 352/500, Loss: 17.334324836730957, Accuracy: 0.9291681744134647\n",
            "Epoch 353/500, Loss: 14.95320749282837, Accuracy: 0.9301153224864355\n",
            "Epoch 354/500, Loss: 19.478586673736572, Accuracy: 0.9311395503065562\n",
            "Epoch 355/500, Loss: 16.295552253723145, Accuracy: 0.9319660394138213\n",
            "Epoch 356/500, Loss: 16.006019115447998, Accuracy: 0.9329876155417363\n",
            "Epoch 357/500, Loss: 16.7417049407959, Accuracy: 0.9338985009208679\n",
            "Epoch 358/500, Loss: 15.004430770874023, Accuracy: 0.9348108739931351\n",
            "Epoch 359/500, Loss: 15.721569538116455, Accuracy: 0.9357343467787232\n",
            "Epoch 360/500, Loss: 13.873357772827148, Accuracy: 0.9365588961580252\n",
            "Epoch 361/500, Loss: 13.223823547363281, Accuracy: 0.9374404868736943\n",
            "Epoch 362/500, Loss: 15.5128755569458, Accuracy: 0.9383550817392607\n",
            "Epoch 363/500, Loss: 12.531593322753906, Accuracy: 0.9391163694445543\n",
            "Epoch 364/500, Loss: 13.042543411254883, Accuracy: 0.9399746680069478\n",
            "Epoch 365/500, Loss: 16.00082778930664, Accuracy: 0.9408446056378313\n",
            "Epoch 366/500, Loss: 13.65283727645874, Accuracy: 0.9415695318736375\n",
            "Epoch 367/500, Loss: 15.061186790466309, Accuracy: 0.9424387715817002\n",
            "Epoch 368/500, Loss: 12.406160354614258, Accuracy: 0.9431040081563747\n",
            "Epoch 369/500, Loss: 11.600253105163574, Accuracy: 0.9438633309678099\n",
            "Epoch 370/500, Loss: 12.711101531982422, Accuracy: 0.9446607352887295\n",
            "Epoch 371/500, Loss: 11.624550342559814, Accuracy: 0.9453761361783178\n",
            "Epoch 372/500, Loss: 13.350493431091309, Accuracy: 0.9461555720086248\n",
            "Epoch 373/500, Loss: 13.071845531463623, Accuracy: 0.9468413452374227\n",
            "Epoch 374/500, Loss: 11.544678211212158, Accuracy: 0.9475155783005813\n",
            "Epoch 375/500, Loss: 13.224638938903809, Accuracy: 0.9482847274730131\n",
            "Epoch 376/500, Loss: 10.793343544006348, Accuracy: 0.9488864186982396\n",
            "Epoch 377/500, Loss: 12.28219223022461, Accuracy: 0.9496179735331918\n",
            "Epoch 378/500, Loss: 12.12301254272461, Accuracy: 0.9503068130031451\n",
            "Epoch 379/500, Loss: 11.419487953186035, Accuracy: 0.95094164878218\n",
            "Epoch 380/500, Loss: 12.593300819396973, Accuracy: 0.951627570925591\n",
            "Epoch 381/500, Loss: 11.114651679992676, Accuracy: 0.9522393017091173\n",
            "Epoch 382/500, Loss: 10.256523609161377, Accuracy: 0.9528493069722779\n",
            "Epoch 383/500, Loss: 10.174541473388672, Accuracy: 0.9534402953541599\n",
            "Epoch 384/500, Loss: 10.098910331726074, Accuracy: 0.9540874073301163\n",
            "Epoch 385/500, Loss: 10.19797134399414, Accuracy: 0.9546805073521617\n",
            "Epoch 386/500, Loss: 10.173651695251465, Accuracy: 0.9552916857127226\n",
            "Epoch 387/500, Loss: 9.429550409317017, Accuracy: 0.9558169835605592\n",
            "Epoch 388/500, Loss: 11.033073902130127, Accuracy: 0.9564333100496425\n",
            "Epoch 389/500, Loss: 9.864131450653076, Accuracy: 0.9569923647697184\n",
            "Epoch 390/500, Loss: 11.56332278251648, Accuracy: 0.9576145580328497\n",
            "Epoch 391/500, Loss: 10.581250190734863, Accuracy: 0.9581844835832074\n",
            "Epoch 392/500, Loss: 8.44176697731018, Accuracy: 0.9587006249897059\n",
            "Epoch 393/500, Loss: 8.652634382247925, Accuracy: 0.9592583304619594\n",
            "Epoch 394/500, Loss: 11.109983205795288, Accuracy: 0.9598619496521782\n",
            "Epoch 395/500, Loss: 9.634629726409912, Accuracy: 0.960389659489044\n",
            "Epoch 396/500, Loss: 8.40560793876648, Accuracy: 0.9608988356763026\n",
            "Epoch 397/500, Loss: 8.42557668685913, Accuracy: 0.9614142758640298\n",
            "Epoch 398/500, Loss: 10.228672981262207, Accuracy: 0.9619907075219148\n",
            "Epoch 399/500, Loss: 8.560586214065552, Accuracy: 0.9624051060411725\n",
            "Epoch 400/500, Loss: 9.584444761276245, Accuracy: 0.9629690038771898\n",
            "Epoch 401/500, Loss: 8.85119342803955, Accuracy: 0.9634207704587388\n",
            "Epoch 402/500, Loss: 7.442150354385376, Accuracy: 0.9638853144750822\n",
            "Epoch 403/500, Loss: 8.526792049407959, Accuracy: 0.9643923392922531\n",
            "Epoch 404/500, Loss: 7.517315626144409, Accuracy: 0.9648356523020023\n",
            "Epoch 405/500, Loss: 9.409791946411133, Accuracy: 0.9653345455560001\n",
            "Epoch 406/500, Loss: 7.8388991355896, Accuracy: 0.9657698816430166\n",
            "Epoch 407/500, Loss: 9.393221139907837, Accuracy: 0.9662439213382711\n",
            "Epoch 408/500, Loss: 7.25925612449646, Accuracy: 0.9666292279042419\n",
            "Epoch 409/500, Loss: 8.21994686126709, Accuracy: 0.9671131070722344\n",
            "Epoch 410/500, Loss: 8.483711004257202, Accuracy: 0.9675604065007685\n",
            "Epoch 411/500, Loss: 8.21119499206543, Accuracy: 0.9679856636799082\n",
            "Epoch 412/500, Loss: 6.278459310531616, Accuracy: 0.9683459289087522\n",
            "Epoch 413/500, Loss: 7.4331817626953125, Accuracy: 0.9688021571731638\n",
            "Epoch 414/500, Loss: 7.0123045444488525, Accuracy: 0.9692009847422809\n",
            "Epoch 415/500, Loss: 6.726974248886108, Accuracy: 0.9695894826542288\n",
            "Epoch 416/500, Loss: 7.509980916976929, Accuracy: 0.9700095424015508\n",
            "Epoch 417/500, Loss: 7.520360469818115, Accuracy: 0.9703845252761935\n",
            "Epoch 418/500, Loss: 6.428398132324219, Accuracy: 0.9707689623403477\n",
            "Epoch 419/500, Loss: 7.487356662750244, Accuracy: 0.971168692650729\n",
            "Epoch 420/500, Loss: 6.382915019989014, Accuracy: 0.971534286266684\n",
            "Epoch 421/500, Loss: 6.019851922988892, Accuracy: 0.9718704347411141\n",
            "Epoch 422/500, Loss: 7.1683855056762695, Accuracy: 0.972274519319156\n",
            "Epoch 423/500, Loss: 6.176156044006348, Accuracy: 0.9726255719383327\n",
            "Epoch 424/500, Loss: 7.557784795761108, Accuracy: 0.9729980231506872\n",
            "Epoch 425/500, Loss: 6.511447906494141, Accuracy: 0.9733276405287571\n",
            "Epoch 426/500, Loss: 5.975828647613525, Accuracy: 0.9736640441385918\n",
            "Epoch 427/500, Loss: 6.379479646682739, Accuracy: 0.9740167133387504\n",
            "Epoch 428/500, Loss: 6.988372087478638, Accuracy: 0.9743894034432871\n",
            "Epoch 429/500, Loss: 7.055259943008423, Accuracy: 0.9747274065308812\n",
            "Epoch 430/500, Loss: 5.445371150970459, Accuracy: 0.9749911272721217\n",
            "Epoch 431/500, Loss: 5.48213005065918, Accuracy: 0.9753384998280892\n",
            "Epoch 432/500, Loss: 6.220275640487671, Accuracy: 0.9756742582435797\n",
            "Epoch 433/500, Loss: 5.258058071136475, Accuracy: 0.975990602273804\n",
            "Epoch 434/500, Loss: 5.619012355804443, Accuracy: 0.9762984964221634\n",
            "Epoch 435/500, Loss: 5.1791064739227295, Accuracy: 0.9765760795113082\n",
            "Epoch 436/500, Loss: 5.734574556350708, Accuracy: 0.9769210942413327\n",
            "Epoch 437/500, Loss: 5.710716009140015, Accuracy: 0.9771818366978947\n",
            "Epoch 438/500, Loss: 5.689777374267578, Accuracy: 0.9774920790943616\n",
            "Epoch 439/500, Loss: 4.593209505081177, Accuracy: 0.9777623624473427\n",
            "Epoch 440/500, Loss: 5.590781211853027, Accuracy: 0.9780663038113695\n",
            "Epoch 441/500, Loss: 4.386363744735718, Accuracy: 0.9783166084229313\n",
            "Epoch 442/500, Loss: 4.803563594818115, Accuracy: 0.9786091755565502\n",
            "Epoch 443/500, Loss: 4.874125242233276, Accuracy: 0.9788809472120148\n",
            "Epoch 444/500, Loss: 4.717518091201782, Accuracy: 0.9791392214109393\n",
            "Epoch 445/500, Loss: 4.957273483276367, Accuracy: 0.9794003309070863\n",
            "Epoch 446/500, Loss: 4.482799768447876, Accuracy: 0.9796456240511024\n",
            "Epoch 447/500, Loss: 5.274776935577393, Accuracy: 0.9798933997577328\n",
            "Epoch 448/500, Loss: 4.851076602935791, Accuracy: 0.9801562639162087\n",
            "Epoch 449/500, Loss: 4.177109122276306, Accuracy: 0.9803986835794302\n",
            "Epoch 450/500, Loss: 4.270412445068359, Accuracy: 0.9806510061086435\n",
            "Epoch 451/500, Loss: 4.419476509094238, Accuracy: 0.9808866312010855\n",
            "Epoch 452/500, Loss: 4.20013153553009, Accuracy: 0.9811278251057101\n",
            "Epoch 453/500, Loss: 4.32757306098938, Accuracy: 0.9813772735572843\n",
            "Epoch 454/500, Loss: 4.061992764472961, Accuracy: 0.9816165408972778\n",
            "Epoch 455/500, Loss: 3.761650323867798, Accuracy: 0.9818204686518978\n",
            "Epoch 456/500, Loss: 3.621119976043701, Accuracy: 0.982042725599879\n",
            "Epoch 457/500, Loss: 4.1627037525177, Accuracy: 0.9822841644891647\n",
            "Epoch 458/500, Loss: 5.092503070831299, Accuracy: 0.9825102096004334\n",
            "Epoch 459/500, Loss: 4.09030556678772, Accuracy: 0.9827109532712031\n",
            "Epoch 460/500, Loss: 4.0667654275894165, Accuracy: 0.9829368039947993\n",
            "Epoch 461/500, Loss: 3.6023000478744507, Accuracy: 0.9831431148552086\n",
            "Epoch 462/500, Loss: 3.8875831365585327, Accuracy: 0.9833786541152044\n",
            "Epoch 463/500, Loss: 4.473278164863586, Accuracy: 0.983588135461452\n",
            "Epoch 464/500, Loss: 3.474234104156494, Accuracy: 0.9837811447233403\n",
            "Epoch 465/500, Loss: 4.413208246231079, Accuracy: 0.9840052598944063\n",
            "Epoch 466/500, Loss: 3.6713277101516724, Accuracy: 0.9841973630890951\n",
            "Epoch 467/500, Loss: 4.345651268959045, Accuracy: 0.9844278283422976\n",
            "Epoch 468/500, Loss: 3.809911608695984, Accuracy: 0.9846243966594515\n",
            "Epoch 469/500, Loss: 3.1209890246391296, Accuracy: 0.9847981308068823\n",
            "Epoch 470/500, Loss: 3.7973201274871826, Accuracy: 0.9850308192304523\n",
            "Epoch 471/500, Loss: 3.2660406827926636, Accuracy: 0.9852116015125766\n",
            "Epoch 472/500, Loss: 4.311891794204712, Accuracy: 0.9854207413046001\n",
            "Epoch 473/500, Loss: 3.986701250076294, Accuracy: 0.9856131093225546\n",
            "Epoch 474/500, Loss: 2.9145655632019043, Accuracy: 0.9857678298823722\n",
            "Epoch 475/500, Loss: 3.2266210317611694, Accuracy: 0.9859593546859274\n",
            "Epoch 476/500, Loss: 3.192129611968994, Accuracy: 0.986146210566396\n",
            "Epoch 477/500, Loss: 3.7030869722366333, Accuracy: 0.9863198065665533\n",
            "Epoch 478/500, Loss: 2.861091732978821, Accuracy: 0.9864732652674124\n",
            "Epoch 479/500, Loss: 2.821224093437195, Accuracy: 0.986655458913953\n",
            "Epoch 480/500, Loss: 2.709246039390564, Accuracy: 0.9868167325893096\n",
            "Epoch 481/500, Loss: 3.317889928817749, Accuracy: 0.986974190620419\n",
            "Epoch 482/500, Loss: 2.986621618270874, Accuracy: 0.9871309330105318\n",
            "Epoch 483/500, Loss: 2.792454481124878, Accuracy: 0.9872856058804765\n",
            "Epoch 484/500, Loss: 3.4442883729934692, Accuracy: 0.9874495548357249\n",
            "Epoch 485/500, Loss: 2.8005672693252563, Accuracy: 0.9875933196334896\n",
            "Epoch 486/500, Loss: 2.8675633668899536, Accuracy: 0.9877409194089152\n",
            "Epoch 487/500, Loss: 3.305419623851776, Accuracy: 0.9879038579901374\n",
            "Epoch 488/500, Loss: 2.6420007944107056, Accuracy: 0.9880428963270222\n",
            "Epoch 489/500, Loss: 3.3289195895195007, Accuracy: 0.9881891729381348\n",
            "Epoch 490/500, Loss: 2.584120035171509, Accuracy: 0.9883195145245447\n",
            "Epoch 491/500, Loss: 2.575541377067566, Accuracy: 0.9884834862572497\n",
            "Epoch 492/500, Loss: 2.4932552576065063, Accuracy: 0.9886232826163679\n",
            "Epoch 493/500, Loss: 2.5052186250686646, Accuracy: 0.9887616843850721\n",
            "Epoch 494/500, Loss: 2.603910803794861, Accuracy: 0.9889020587955702\n",
            "Epoch 495/500, Loss: 2.8598262071609497, Accuracy: 0.9890281482017285\n",
            "Epoch 496/500, Loss: 2.5071266889572144, Accuracy: 0.9891612431197894\n",
            "Epoch 497/500, Loss: 2.330845534801483, Accuracy: 0.9892965412077834\n",
            "Epoch 498/500, Loss: 2.246790587902069, Accuracy: 0.989424471275644\n",
            "Epoch 499/500, Loss: 2.8330679535865784, Accuracy: 0.9895559463220731\n",
            "Epoch 500/500, Loss: 2.23858779668808, Accuracy: 0.989678717111919\n"
          ]
        }
      ]
    },
    {
      "cell_type": "code",
      "source": [],
      "metadata": {
        "id": "hlb9-6USmo9Z"
      },
      "execution_count": null,
      "outputs": []
    },
    {
      "cell_type": "code",
      "source": [
        "# Plot training loss\n",
        "plt.figure(figsize=(10, 5))\n",
        "plt.plot(range(1, epochs + 1), train_losses, label='Training Loss')\n",
        "plt.xlabel('Epochs')\n",
        "plt.ylabel('Loss')\n",
        "plt.title('Training Loss')\n",
        "plt.legend()\n",
        "plt.show()"
      ],
      "metadata": {
        "colab": {
          "base_uri": "https://localhost:8080/",
          "height": 487
        },
        "id": "Z_t1k1AHa4Jm",
        "outputId": "2d8baf41-b055-4466-d7da-0b3f3945b9ea"
      },
      "execution_count": null,
      "outputs": [
        {
          "output_type": "display_data",
          "data": {
            "text/plain": [
              "<Figure size 1000x500 with 1 Axes>"
            ],
            "image/png": "[encoded data removed]"
          },
          "metadata": {}
        }
      ]
    },
    {
      "cell_type": "code",
      "source": [
        "plt.figure(figsize=(10, 5))\n",
        "plt.plot(range(1, epochs + 1), train_accuracies, label='Training Accuracy')\n",
        "plt.xlabel('Epochs')\n",
        "plt.ylabel('Accuracy')\n",
        "plt.title('Training accuracy')\n",
        "plt.legend()\n",
        "plt.show()"
      ],
      "metadata": {
        "colab": {
          "base_uri": "https://localhost:8080/",
          "height": 487
        },
        "id": "Fmhuwr0smrFU",
        "outputId": "18c8e27f-1bbb-46fa-dbb9-b0936f75b828"
      },
      "execution_count": null,
      "outputs": [
        {
          "output_type": "display_data",
          "data": {
            "text/plain": [
              "<Figure size 1000x500 with 1 Axes>"
            ],
            "image/png": "[encoded data removed]"
          },
          "metadata": {}
        }
      ]
    },
    {
      "cell_type": "code",
      "source": [
        "# Evaluation\n",
        "model.eval()\n",
        "with torch.no_grad():\n",
        "    predicted = model(X_test_tensor)\n",
        "    test_loss = criterion(predicted.squeeze(), y_test_tensor)\n",
        "    print(f'Test Loss: {test_loss.item()}')\n",
        "\n",
        "    # Visualize predicted vs actual\n",
        "    plt.figure(figsize=(10, 5))\n",
        "    plt.scatter(y_test, predicted, alpha=0.5)\n",
        "    plt.xlabel('Actual Performance')\n",
        "    plt.ylabel('Predicted Performance')\n",
        "    plt.title('Actual vs Predicted Performance')\n",
        "    plt.show()"
      ],
      "metadata": {
        "colab": {
          "base_uri": "https://localhost:8080/",
          "height": 504
        },
        "id": "4Ie1Dy-3RMBr",
        "outputId": "cd84e48d-5c35-4e8b-c008-3b0ad61c9728"
      },
      "execution_count": null,
      "outputs": [
        {
          "output_type": "stream",
          "name": "stdout",
          "text": [
            "Test Loss: 294.8787536621094\n"
          ]
        },
        {
          "output_type": "display_data",
          "data": {
            "text/plain": [
              "<Figure size 1000x500 with 1 Axes>"
            ],
            "image/png": "[encoded data removed]"
          },
          "metadata": {}
        }
      ]
    },
    {
      "cell_type": "code",
      "source": [
        "# Print final loss and accuracy\n",
        "final_loss = train_losses[-1]\n",
        "final_accuracy = train_accuracies[-1]\n",
        "\n",
        "print(f'Final Loss: {final_loss}')\n",
        "print(f'Final Accuracy: {final_accuracy}')\n"
      ],
      "metadata": {
        "id": "gU7mknczneXC",
        "outputId": "4ee44c0d-15c5-4524-cc6a-df5941b7eab2",
        "colab": {
          "base_uri": "https://localhost:8080/"
        }
      },
      "execution_count": null,
      "outputs": [
        {
          "output_type": "stream",
          "name": "stdout",
          "text": [
            "Final Loss: 2.23858779668808\n",
            "Final Accuracy: 0.989678717111919\n"
          ]
        }
      ]
    },
    {
      "cell_type": "code",
      "source": [
        "# Save the trained model\n",
        "torch.save(model.state_dict(), 'student_performance_model.pth')\n",
        "\n",
        "# Load the saved model\n",
        "loaded_model = GNN(input_dim, hidden_dim, output_dim)\n",
        "loaded_model.load_state_dict(torch.load('student_performance_model.pth'))\n",
        "loaded_model.eval()"
      ],
      "metadata": {
        "colab": {
          "base_uri": "https://localhost:8080/"
        },
        "id": "6dziTNHhajJj",
        "outputId": "769f7fe4-dd85-4276-9372-2fa6c6771890"
      },
      "execution_count": null,
      "outputs": [
        {
          "output_type": "execute_result",
          "data": {
            "text/plain": [
              "GNN(\n",
              "  (fc1): Linear(in_features=103, out_features=64, bias=True)\n",
              "  (fc2): Linear(in_features=64, out_features=1, bias=True)\n",
              "  (relu): ReLU()\n",
              ")"
            ]
          },
          "metadata": {},
          "execution_count": 18
        }
      ]
    }
  ]
}